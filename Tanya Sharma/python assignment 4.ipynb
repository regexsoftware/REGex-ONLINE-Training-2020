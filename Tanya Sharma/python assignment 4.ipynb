{
 "cells": [
  {
   "cell_type": "markdown",
   "metadata": {},
   "source": [
    "# Write a Program to print new list which contains all the first Characters of strings present in a list"
   ]
  },
  {
   "cell_type": "code",
   "execution_count": 1,
   "metadata": {
    "collapsed": false
   },
   "outputs": [
    {
     "name": "stdout",
     "output_type": "stream",
     "text": [
      "['G', 'R', 'K', 'G', 'M', 'M']\n"
     ]
    }
   ],
   "source": [
    "LIST_STATES = [\"GOA\",\"RAJASTHAN\",\"KARNATAKA\",\"GUJARAT\",\"MANIPUR\",\"MADHYA PRADESH\"]\n",
    "new_list=[]\n",
    "for i in LIST_STATES:\n",
    "    new_list.append(i[0])\n",
    "print(new_list)"
   ]
  },
  {
   "cell_type": "markdown",
   "metadata": {},
   "source": [
    "# Write a program to replace each string with an integer value in a given list of strings.The replacement integer value should be a sum of AScci values of each character of type corresponding string........"
   ]
  },
  {
   "cell_type": "code",
   "execution_count": 2,
   "metadata": {
    "collapsed": false
   },
   "outputs": [
    {
     "name": "stdout",
     "output_type": "stream",
     "text": [
      "[478, 992, 1602, 2221, 2913]\n"
     ]
    }
   ],
   "source": [
    "list= ['Ganga', 'Tapti', 'Kaveri', 'Yamuna', 'Narmada']\n",
    "new_list=[]\n",
    "ascii_value=0\n",
    "for i in list:\n",
    "    for a in i:\n",
    "        ascii_value+=ord(a)\n",
    "    new_list.append(ascii_value)\n",
    "print(new_list)"
   ]
  },
  {
   "cell_type": "markdown",
   "metadata": {},
   "source": [
    "# you have to run your program at 9:00am date 14th april 2020\n",
    "# and convert it into list format"
   ]
  },
  {
   "cell_type": "code",
   "execution_count": 31,
   "metadata": {
    "collapsed": false
   },
   "outputs": [
    {
     "name": "stdout",
     "output_type": "stream",
     "text": [
      "2020-04-14 09:00:00\n"
     ]
    }
   ],
   "source": [
    "import datetime\n",
    "import time\n",
    "task_date = datetime.datetime(2020, 4, 14, 9, 0, 0)\n",
    "while datetime.datetime.now() < task_date:\n",
    "    time.sleep(1)\n",
    "\n",
    "print(task_date)\n"
   ]
  },
  {
   "cell_type": "markdown",
   "metadata": {},
   "source": [
    "# Take a list REGex=[1,2,3,4,5,6,7,8,9,0,77,44,15,33,65,89,12]\n",
    "### print only those numbers greator then 20\n",
    "### then print those numbers those are less then 10 or equal to 10\n",
    "### store these above two list in two different list."
   ]
  },
  {
   "cell_type": "code",
   "execution_count": 4,
   "metadata": {
    "collapsed": false
   },
   "outputs": [
    {
     "name": "stdout",
     "output_type": "stream",
     "text": [
      "numbers greater than 20:  [77, 44, 33, 65, 89]\n",
      "numbers less than or equal to 10: [1, 2, 3, 4, 5, 6, 7, 8, 9, 0]\n"
     ]
    }
   ],
   "source": [
    "REGex=[1,2,3,4,5,6,7,8,9,0,77,44,15,33,65,89,12]\n",
    "greater=[]\n",
    "less=[]\n",
    "for i in REGex:\n",
    "    if i > 20:\n",
    "        greater.append(i)\n",
    "for i in REGex:\n",
    "    if i<= 10:\n",
    "        less.append(i)\n",
    "print(\"numbers greater than 20: \",greater)\n",
    "print(\"numbers less than or equal to 10:\",less)"
   ]
  },
  {
   "cell_type": "markdown",
   "metadata": {},
   "source": [
    "# Give a tuple:\n",
    "### tuple = ('a','l','g','o','r','i','t','h','m')\n",
    "### 1. Using the concept of slicing, print the whole tuple\n",
    "### 2. delete the element at the 3rd Index, print the tuple."
   ]
  },
  {
   "cell_type": "code",
   "execution_count": 17,
   "metadata": {
    "collapsed": false
   },
   "outputs": [
    {
     "name": "stdout",
     "output_type": "stream",
     "text": [
      "('a', 'l', 'g', 'o', 'r', 'i', 't', 'h', 'm')\n",
      "('a', 'l', 'g', 'r', 'i', 't', 'h', 'm')\n"
     ]
    }
   ],
   "source": [
    "tuple1 = ('a','l','g','o','r','i','t','h','m')\n",
    "\n",
    "#print the tuple using slicing\n",
    "print(tuple1[::1])\n",
    "\n",
    "# deleting the 3rd value of the index\n",
    "a=tuple1[:3]+tuple1[4:]\n",
    "print(a)"
   ]
  },
  {
   "cell_type": "markdown",
   "metadata": {},
   "source": [
    "# execute standard linux commands using python programming"
   ]
  },
  {
   "cell_type": "code",
   "execution_count": 18,
   "metadata": {
    "collapsed": false
   },
   "outputs": [
    {
     "data": {
      "text/plain": [
       "1"
      ]
     },
     "execution_count": 18,
     "metadata": {},
     "output_type": "execute_result"
    }
   ],
   "source": [
    "import os\n",
    "os.system('ls -l')"
   ]
  },
  {
   "cell_type": "code",
   "execution_count": 19,
   "metadata": {
    "collapsed": false
   },
   "outputs": [
    {
     "data": {
      "text/plain": [
       "0"
      ]
     },
     "execution_count": 19,
     "metadata": {},
     "output_type": "execute_result"
    }
   ],
   "source": [
    "from subprocess import call\n",
    "call('echo \"I like potatos\"', shell=True)"
   ]
  },
  {
   "cell_type": "markdown",
   "metadata": {},
   "source": [
    "# revise kwargs and args"
   ]
  },
  {
   "cell_type": "code",
   "execution_count": 26,
   "metadata": {
    "collapsed": false
   },
   "outputs": [
    {
     "name": "stdout",
     "output_type": "stream",
     "text": [
      "14\n",
      "This is a Program\n"
     ]
    }
   ],
   "source": [
    "def add(*args):\n",
    "    total = 0\n",
    "    for i in args:\n",
    "        total += i\n",
    "    return total\n",
    "\n",
    "def sum(**kwargs):\n",
    "    result = \"\"\n",
    "    for arg in kwargs.values():\n",
    "        result += arg\n",
    "    return result\n",
    "\n",
    "print(add(5, 8, 1))\n",
    "print(sum(a=\"This\", b=\" is\", c=\" a\", d=\" Program\"))\n"
   ]
  },
  {
   "cell_type": "code",
   "execution_count": null,
   "metadata": {
    "collapsed": true
   },
   "outputs": [],
   "source": []
  }
 ],
 "metadata": {
  "kernelspec": {
   "display_name": "Python [default]",
   "language": "python",
   "name": "python3"
  },
  "language_info": {
   "codemirror_mode": {
    "name": "ipython",
    "version": 3
   },
   "file_extension": ".py",
   "mimetype": "text/x-python",
   "name": "python",
   "nbconvert_exporter": "python",
   "pygments_lexer": "ipython3",
   "version": "3.5.2"
  }
 },
 "nbformat": 4,
 "nbformat_minor": 1
}
