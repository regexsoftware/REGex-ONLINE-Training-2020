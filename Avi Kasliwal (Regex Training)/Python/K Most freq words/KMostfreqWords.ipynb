{
 "cells": [
  {
   "cell_type": "code",
   "execution_count": 1,
   "metadata": {},
   "outputs": [
    {
     "name": "stdout",
     "output_type": "stream",
     "text": [
      "[('tree', 6), ('binary', 5), ('a', 4), ('child', 3), ('data', 2), ('have', 2), ('2', 2), ('children', 2), ('left', 2), ('right', 2)]\n",
      "<class 'list'>\n"
     ]
    },
    {
     "data": {
      "image/png": "[encoded data removed]",
      "text/plain": [
       "<Figure size 432x288 with 1 Axes>"
      ]
     },
     "metadata": {
      "needs_background": "light"
     },
     "output_type": "display_data"
    }
   ],
   "source": [
    "# Python3 program for a word frequency \n",
    "# counter after crawling a web-page \n",
    "import requests \n",
    "from bs4 import BeautifulSoup \n",
    "import operator \n",
    "from collections import Counter \n",
    "import matplotlib.pyplot as plt\n",
    "import numpy as np\n",
    "  \n",
    "'''Function defining the web-crawler/core \n",
    "spider, which will fetch information from \n",
    "a given website, and push the contents to \n",
    "the second  function clean_wordlist()'''\n",
    "def start(url): \n",
    "  \n",
    "    # empty list to store the contents of  \n",
    "    # the website fetched from our web-crawler \n",
    "    wordlist = [] \n",
    "    source_code = requests.get(url).text \n",
    "  \n",
    "    # BeautifulSoup object which will \n",
    "    # ping the requested url for data \n",
    "    soup = BeautifulSoup(source_code, 'html.parser') \n",
    "  \n",
    "    # Text in given web-page is stored under \n",
    "    # the <div> tags with class <entry-content> \n",
    "    for each_text in soup.findAll('div', {'class':'entry-content'}): \n",
    "        content = each_text.text \n",
    "  \n",
    "        # use split() to break the sentence into  \n",
    "        # words and convert them into lowercase  \n",
    "        words = content.lower().split() \n",
    "          \n",
    "        for each_word in words: \n",
    "            wordlist.append(each_word) \n",
    "        clean_wordlist(wordlist) \n",
    "  \n",
    "# Function removes any unwanted symbols \n",
    "def clean_wordlist(wordlist): \n",
    "      \n",
    "    clean_list =[] \n",
    "    for word in wordlist: \n",
    "        symbols = '\\!@#$%^&*()_-+={[}]|\\;:\"<>?/., '\n",
    "          \n",
    "        for i in range (0, len(symbols)): \n",
    "            word = word.replace(symbols[i], '') \n",
    "              \n",
    "        if len(word) > 0: \n",
    "            clean_list.append(word) \n",
    "    create_dictionary(clean_list) \n",
    "  \n",
    "# Creates a dictionary conatining each word's  \n",
    "# count and top_20 ocuuring words \n",
    "def create_dictionary(clean_list): \n",
    "    word_count = {} \n",
    "      \n",
    "    for word in clean_list: \n",
    "        if word in word_count: \n",
    "            word_count[word] += 1\n",
    "        else: \n",
    "            word_count[word] = 1\n",
    "              \n",
    "    ''' To get count of each word in \n",
    "        the crawled page --> \n",
    "          \n",
    "    # operator.itemgetter() takes one  \n",
    "    # parameter either 1(denotes keys) \n",
    "    # or 0 (denotes corresponding values) \n",
    "      \n",
    "    for key, value in sorted(word_count.items(), \n",
    "                    key = operator.itemgetter(1)): \n",
    "        print (\"% s : % s \" % (key, value)) \n",
    "          \n",
    "    <-- '''\n",
    "  \n",
    "      \n",
    "    c = Counter(word_count) \n",
    "      \n",
    "    # returns the most occurring elements \n",
    "    top = c.most_common(10) \n",
    "    print(top) \n",
    "    print(type(top))\n",
    "    labels, ys = zip(*top)\n",
    "    xs = np.arange(len(labels)) \n",
    "    width = 1\n",
    "\n",
    "    plt.bar(xs, ys, width, align = 'center')\n",
    "    plt.title(\"Avi Kasliwal Submission\")\n",
    "    plt.xticks(DayOfWeekOfCall, LABELS)\n",
    "    plt.ylabel(\"Count\")\n",
    "  \n",
    "# Driver code \n",
    "if __name__ == '__main__': \n",
    "    start(\"https://www.geeksforgeeks.org/binary-tree-data-structure/\") \n",
    "    "
   ]
  }
 ],
 "metadata": {
  "kernelspec": {
   "display_name": "Python 3",
   "language": "python",
   "name": "python3"
  },
  "language_info": {
   "codemirror_mode": {
    "name": "ipython",
    "version": 3
   },
   "file_extension": ".py",
   "mimetype": "text/x-python",
   "name": "python",
   "nbconvert_exporter": "python",
   "pygments_lexer": "ipython3",
   "version": "3.7.4"
  }
 },
 "nbformat": 4,
 "nbformat_minor": 2
}
